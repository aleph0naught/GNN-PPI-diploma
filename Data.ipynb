{
 "cells": [
  {
   "cell_type": "code",
   "execution_count": 2,
   "id": "d12f16f6",
   "metadata": {},
   "outputs": [
    {
     "name": "stdout",
     "output_type": "stream",
     "text": [
      "--2023-05-13 11:46:45--  http://yellowstone.cs.ucla.edu/~muhao/pipr/SHS_ppi_beta.zip\n",
      "Resolving yellowstone.cs.ucla.edu (yellowstone.cs.ucla.edu)... 131.179.64.145\n",
      "Connecting to yellowstone.cs.ucla.edu (yellowstone.cs.ucla.edu)|131.179.64.145|:80... connected.\n",
      "HTTP request sent, awaiting response... 200 OK\n",
      "Length: 41211458 (39M) [application/zip]\n",
      "Saving to: ‘SHS_ppi_beta.zip’\n",
      "\n",
      "SHS_ppi_beta.zip    100%[===================>]  39.30M  3.37MB/s    in 12s     \n",
      "\n",
      "2023-05-13 11:46:58 (3.28 MB/s) - ‘SHS_ppi_beta.zip’ saved [41211458/41211458]\n",
      "\n"
     ]
    }
   ],
   "source": [
    "!wget http://yellowstone.cs.ucla.edu/~muhao/pipr/SHS_ppi_beta.zip"
   ]
  },
  {
   "cell_type": "code",
   "execution_count": 3,
   "id": "72e69faa",
   "metadata": {},
   "outputs": [
    {
     "name": "stdout",
     "output_type": "stream",
     "text": [
      "Archive:  SHS_ppi_beta.zip\n",
      "   creating: dataset_release/\n",
      "  inflating: dataset_release/protein.actions.SHS148k.tsv  \n",
      "  inflating: dataset_release/protein.actions.SHS27k.tsv  \n",
      "  inflating: dataset_release/protein.sequences.dictionary.both.tsv  \n"
     ]
    }
   ],
   "source": [
    "!unzip SHS_ppi_beta.zip"
   ]
  },
  {
   "cell_type": "code",
   "execution_count": 6,
   "id": "b0988f3e",
   "metadata": {},
   "outputs": [
    {
     "name": "stdout",
     "output_type": "stream",
     "text": [
      "Requirement already satisfied: pandas in /root/miniconda3/envs/GNN-PPI/lib/python3.10/site-packages (1.4.3)\n",
      "Requirement already satisfied: numpy>=1.21.0 in /root/miniconda3/envs/GNN-PPI/lib/python3.10/site-packages (from pandas) (1.23.1)\n",
      "Requirement already satisfied: python-dateutil>=2.8.1 in /root/miniconda3/envs/GNN-PPI/lib/python3.10/site-packages (from pandas) (2.8.2)\n",
      "Requirement already satisfied: pytz>=2020.1 in /root/miniconda3/envs/GNN-PPI/lib/python3.10/site-packages (from pandas) (2022.2.1)\n",
      "Requirement already satisfied: six>=1.5 in /root/miniconda3/envs/GNN-PPI/lib/python3.10/site-packages (from python-dateutil>=2.8.1->pandas) (1.16.0)\n",
      "\u001b[33mWARNING: Running pip as the 'root' user can result in broken permissions and conflicting behaviour with the system package manager. It is recommended to use a virtual environment instead: https://pip.pypa.io/warnings/venv\u001b[0m\u001b[33m\n",
      "\u001b[0mNote: you may need to restart the kernel to use updated packages.\n"
     ]
    }
   ],
   "source": [
    "%pip install pandas"
   ]
  },
  {
   "cell_type": "code",
   "execution_count": 68,
   "id": "4b8e5865",
   "metadata": {},
   "outputs": [],
   "source": [
    "import pandas as pd\n",
    "\n",
    "shs148k_path = 'dataset_release/protein.actions.SHS148k.tsv'"
   ]
  },
  {
   "cell_type": "code",
   "execution_count": 69,
   "id": "e69a309a",
   "metadata": {},
   "outputs": [
    {
     "data": {
      "text/html": [
       "<div>\n",
       "<style scoped>\n",
       "    .dataframe tbody tr th:only-of-type {\n",
       "        vertical-align: middle;\n",
       "    }\n",
       "\n",
       "    .dataframe tbody tr th {\n",
       "        vertical-align: top;\n",
       "    }\n",
       "\n",
       "    .dataframe thead th {\n",
       "        text-align: right;\n",
       "    }\n",
       "</style>\n",
       "<table border=\"1\" class=\"dataframe\">\n",
       "  <thead>\n",
       "    <tr style=\"text-align: right;\">\n",
       "      <th></th>\n",
       "      <th>level_0</th>\n",
       "      <th>level_1</th>\n",
       "      <th>item_id_a</th>\n",
       "      <th>item_id_b</th>\n",
       "      <th>mode</th>\n",
       "      <th>action</th>\n",
       "      <th>is_directional</th>\n",
       "      <th>a_is_acting</th>\n",
       "      <th>score</th>\n",
       "    </tr>\n",
       "  </thead>\n",
       "  <tbody>\n",
       "    <tr>\n",
       "      <th>0</th>\n",
       "      <td>MGLTVSALFSRIFGKKQMRILMVGLDAAGKTTILYKLKLGEIVTTI...</td>\n",
       "      <td>MAAAAAQGGGGGEPRRTEGVGPGVPGEVEMVKGQPFDVGPRYTQLQ...</td>\n",
       "      <td>9606.ENSP00000000233</td>\n",
       "      <td>9606.ENSP00000263025</td>\n",
       "      <td>ptmod</td>\n",
       "      <td>NaN</td>\n",
       "      <td>f</td>\n",
       "      <td>f</td>\n",
       "      <td>150</td>\n",
       "    </tr>\n",
       "    <tr>\n",
       "      <th>1</th>\n",
       "      <td>MGLTVSALFSRIFGKKQMRILMVGLDAAGKTTILYKLKLGEIVTTI...</td>\n",
       "      <td>MAQAAKQLKKIKDIEAQALQEQKEKEESNRKRRNRSRDRKKKADAA...</td>\n",
       "      <td>9606.ENSP00000000233</td>\n",
       "      <td>9606.ENSP00000265709</td>\n",
       "      <td>reaction</td>\n",
       "      <td>NaN</td>\n",
       "      <td>f</td>\n",
       "      <td>f</td>\n",
       "      <td>908</td>\n",
       "    </tr>\n",
       "    <tr>\n",
       "      <th>2</th>\n",
       "      <td>MGLTVSALFSRIFGKKQMRILMVGLDAAGKTTILYKLKLGEIVTTI...</td>\n",
       "      <td>MAQAAKQLKKIKDIEAQALQEQKEKEESNRKRRNRSRDRKKKADAA...</td>\n",
       "      <td>9606.ENSP00000000233</td>\n",
       "      <td>9606.ENSP00000265709</td>\n",
       "      <td>catalysis</td>\n",
       "      <td>NaN</td>\n",
       "      <td>t</td>\n",
       "      <td>t</td>\n",
       "      <td>908</td>\n",
       "    </tr>\n",
       "    <tr>\n",
       "      <th>3</th>\n",
       "      <td>MGLTVSALFSRIFGKKQMRILMVGLDAAGKTTILYKLKLGEIVTTI...</td>\n",
       "      <td>MAAAAAQGGGGGEPRRTEGVGPGVPGEVEMVKGQPFDVGPRYTQLQ...</td>\n",
       "      <td>9606.ENSP00000000233</td>\n",
       "      <td>9606.ENSP00000263025</td>\n",
       "      <td>inhibition</td>\n",
       "      <td>inhibition</td>\n",
       "      <td>t</td>\n",
       "      <td>t</td>\n",
       "      <td>154</td>\n",
       "    </tr>\n",
       "    <tr>\n",
       "      <th>4</th>\n",
       "      <td>MGLTVSALFSRIFGKKQMRILMVGLDAAGKTTILYKLKLGEIVTTI...</td>\n",
       "      <td>MAQAAKQLKKIKDIEAQALQEQKEKEESNRKRRNRSRDRKKKADAA...</td>\n",
       "      <td>9606.ENSP00000000233</td>\n",
       "      <td>9606.ENSP00000265709</td>\n",
       "      <td>binding</td>\n",
       "      <td>NaN</td>\n",
       "      <td>f</td>\n",
       "      <td>t</td>\n",
       "      <td>908</td>\n",
       "    </tr>\n",
       "  </tbody>\n",
       "</table>\n",
       "</div>"
      ],
      "text/plain": [
       "                                             level_0  \\\n",
       "0  MGLTVSALFSRIFGKKQMRILMVGLDAAGKTTILYKLKLGEIVTTI...   \n",
       "1  MGLTVSALFSRIFGKKQMRILMVGLDAAGKTTILYKLKLGEIVTTI...   \n",
       "2  MGLTVSALFSRIFGKKQMRILMVGLDAAGKTTILYKLKLGEIVTTI...   \n",
       "3  MGLTVSALFSRIFGKKQMRILMVGLDAAGKTTILYKLKLGEIVTTI...   \n",
       "4  MGLTVSALFSRIFGKKQMRILMVGLDAAGKTTILYKLKLGEIVTTI...   \n",
       "\n",
       "                                             level_1             item_id_a  \\\n",
       "0  MAAAAAQGGGGGEPRRTEGVGPGVPGEVEMVKGQPFDVGPRYTQLQ...  9606.ENSP00000000233   \n",
       "1  MAQAAKQLKKIKDIEAQALQEQKEKEESNRKRRNRSRDRKKKADAA...  9606.ENSP00000000233   \n",
       "2  MAQAAKQLKKIKDIEAQALQEQKEKEESNRKRRNRSRDRKKKADAA...  9606.ENSP00000000233   \n",
       "3  MAAAAAQGGGGGEPRRTEGVGPGVPGEVEMVKGQPFDVGPRYTQLQ...  9606.ENSP00000000233   \n",
       "4  MAQAAKQLKKIKDIEAQALQEQKEKEESNRKRRNRSRDRKKKADAA...  9606.ENSP00000000233   \n",
       "\n",
       "              item_id_b        mode      action is_directional a_is_acting  \\\n",
       "0  9606.ENSP00000263025       ptmod         NaN              f           f   \n",
       "1  9606.ENSP00000265709    reaction         NaN              f           f   \n",
       "2  9606.ENSP00000265709   catalysis         NaN              t           t   \n",
       "3  9606.ENSP00000263025  inhibition  inhibition              t           t   \n",
       "4  9606.ENSP00000265709     binding         NaN              f           t   \n",
       "\n",
       "   score  \n",
       "0    150  \n",
       "1    908  \n",
       "2    908  \n",
       "3    154  \n",
       "4    908  "
      ]
     },
     "execution_count": 69,
     "metadata": {},
     "output_type": "execute_result"
    }
   ],
   "source": [
    "shs148k = pd.read_csv(shs148k_path, sep='\\t').reset_index()\n",
    "\n",
    "shs148k.head()"
   ]
  },
  {
   "cell_type": "code",
   "execution_count": 6,
   "id": "ae082405",
   "metadata": {},
   "outputs": [],
   "source": [
    "proteins = set(shs148k['item_id_a']) | set(shs148k['item_id_b']) "
   ]
  },
  {
   "cell_type": "code",
   "execution_count": 7,
   "id": "84330c11",
   "metadata": {},
   "outputs": [],
   "source": [
    "proteins_index = {key: i for i, key in enumerate(proteins)}"
   ]
  },
  {
   "cell_type": "code",
   "execution_count": 8,
   "id": "e043cb03",
   "metadata": {},
   "outputs": [],
   "source": [
    "shs148k['node_a'] = shs148k['item_id_a'].apply(lambda x: proteins_index[x])\n",
    "shs148k['node_b'] = shs148k['item_id_b'].apply(lambda x: proteins_index[x])"
   ]
  },
  {
   "cell_type": "code",
   "execution_count": 9,
   "id": "082c2f80",
   "metadata": {},
   "outputs": [],
   "source": [
    "shs148k = shs148k[shs148k['mode'] == 'binding']"
   ]
  },
  {
   "cell_type": "code",
   "execution_count": 10,
   "id": "f72ca394",
   "metadata": {},
   "outputs": [
    {
     "data": {
      "text/html": [
       "<div>\n",
       "<style scoped>\n",
       "    .dataframe tbody tr th:only-of-type {\n",
       "        vertical-align: middle;\n",
       "    }\n",
       "\n",
       "    .dataframe tbody tr th {\n",
       "        vertical-align: top;\n",
       "    }\n",
       "\n",
       "    .dataframe thead th {\n",
       "        text-align: right;\n",
       "    }\n",
       "</style>\n",
       "<table border=\"1\" class=\"dataframe\">\n",
       "  <thead>\n",
       "    <tr style=\"text-align: right;\">\n",
       "      <th></th>\n",
       "      <th>level_0</th>\n",
       "      <th>level_1</th>\n",
       "      <th>item_id_a</th>\n",
       "      <th>item_id_b</th>\n",
       "      <th>mode</th>\n",
       "      <th>action</th>\n",
       "      <th>is_directional</th>\n",
       "      <th>a_is_acting</th>\n",
       "      <th>score</th>\n",
       "      <th>node_a</th>\n",
       "      <th>node_b</th>\n",
       "    </tr>\n",
       "  </thead>\n",
       "  <tbody>\n",
       "    <tr>\n",
       "      <th>4</th>\n",
       "      <td>MGLTVSALFSRIFGKKQMRILMVGLDAAGKTTILYKLKLGEIVTTI...</td>\n",
       "      <td>MAQAAKQLKKIKDIEAQALQEQKEKEESNRKRRNRSRDRKKKADAA...</td>\n",
       "      <td>9606.ENSP00000000233</td>\n",
       "      <td>9606.ENSP00000265709</td>\n",
       "      <td>binding</td>\n",
       "      <td>NaN</td>\n",
       "      <td>f</td>\n",
       "      <td>t</td>\n",
       "      <td>908</td>\n",
       "      <td>137</td>\n",
       "      <td>4634</td>\n",
       "    </tr>\n",
       "    <tr>\n",
       "      <th>8</th>\n",
       "      <td>MGLTVSALFSRIFGKKQMRILMVGLDAAGKTTILYKLKLGEIVTTI...</td>\n",
       "      <td>MAQAAKQLKKIKDIEAQALQEQKEKEESNRKRRNRSRDRKKKADAA...</td>\n",
       "      <td>9606.ENSP00000000233</td>\n",
       "      <td>9606.ENSP00000265709</td>\n",
       "      <td>binding</td>\n",
       "      <td>NaN</td>\n",
       "      <td>f</td>\n",
       "      <td>f</td>\n",
       "      <td>908</td>\n",
       "      <td>137</td>\n",
       "      <td>4634</td>\n",
       "    </tr>\n",
       "    <tr>\n",
       "      <th>10</th>\n",
       "      <td>MGLTVSALFSRIFGKKQMRILMVGLDAAGKTTILYKLKLGEIVTTI...</td>\n",
       "      <td>MAAAAAQGGGGGEPRRTEGVGPGVPGEVEMVKGQPFDVGPRYTQLQ...</td>\n",
       "      <td>9606.ENSP00000000233</td>\n",
       "      <td>9606.ENSP00000263025</td>\n",
       "      <td>binding</td>\n",
       "      <td>NaN</td>\n",
       "      <td>f</td>\n",
       "      <td>t</td>\n",
       "      <td>156</td>\n",
       "      <td>137</td>\n",
       "      <td>1438</td>\n",
       "    </tr>\n",
       "    <tr>\n",
       "      <th>11</th>\n",
       "      <td>MGLTVSALFSRIFGKKQMRILMVGLDAAGKTTILYKLKLGEIVTTI...</td>\n",
       "      <td>MAAAAAQGGGGGEPRRTEGVGPGVPGEVEMVKGQPFDVGPRYTQLQ...</td>\n",
       "      <td>9606.ENSP00000000233</td>\n",
       "      <td>9606.ENSP00000263025</td>\n",
       "      <td>binding</td>\n",
       "      <td>NaN</td>\n",
       "      <td>f</td>\n",
       "      <td>f</td>\n",
       "      <td>156</td>\n",
       "      <td>137</td>\n",
       "      <td>1438</td>\n",
       "    </tr>\n",
       "    <tr>\n",
       "      <th>21</th>\n",
       "      <td>MGLTVSALFSRIFGKKQMRILMVGLDAAGKTTILYKLKLGEIVTTI...</td>\n",
       "      <td>MAGSSTGGGGVGETKVIYHLDEEETPYLVKIPVPAERITLGDFKSV...</td>\n",
       "      <td>9606.ENSP00000000233</td>\n",
       "      <td>9606.ENSP00000005340</td>\n",
       "      <td>binding</td>\n",
       "      <td>NaN</td>\n",
       "      <td>f</td>\n",
       "      <td>f</td>\n",
       "      <td>171</td>\n",
       "      <td>137</td>\n",
       "      <td>4882</td>\n",
       "    </tr>\n",
       "  </tbody>\n",
       "</table>\n",
       "</div>"
      ],
      "text/plain": [
       "                                              level_0  \\\n",
       "4   MGLTVSALFSRIFGKKQMRILMVGLDAAGKTTILYKLKLGEIVTTI...   \n",
       "8   MGLTVSALFSRIFGKKQMRILMVGLDAAGKTTILYKLKLGEIVTTI...   \n",
       "10  MGLTVSALFSRIFGKKQMRILMVGLDAAGKTTILYKLKLGEIVTTI...   \n",
       "11  MGLTVSALFSRIFGKKQMRILMVGLDAAGKTTILYKLKLGEIVTTI...   \n",
       "21  MGLTVSALFSRIFGKKQMRILMVGLDAAGKTTILYKLKLGEIVTTI...   \n",
       "\n",
       "                                              level_1             item_id_a  \\\n",
       "4   MAQAAKQLKKIKDIEAQALQEQKEKEESNRKRRNRSRDRKKKADAA...  9606.ENSP00000000233   \n",
       "8   MAQAAKQLKKIKDIEAQALQEQKEKEESNRKRRNRSRDRKKKADAA...  9606.ENSP00000000233   \n",
       "10  MAAAAAQGGGGGEPRRTEGVGPGVPGEVEMVKGQPFDVGPRYTQLQ...  9606.ENSP00000000233   \n",
       "11  MAAAAAQGGGGGEPRRTEGVGPGVPGEVEMVKGQPFDVGPRYTQLQ...  9606.ENSP00000000233   \n",
       "21  MAGSSTGGGGVGETKVIYHLDEEETPYLVKIPVPAERITLGDFKSV...  9606.ENSP00000000233   \n",
       "\n",
       "               item_id_b     mode action is_directional a_is_acting  score  \\\n",
       "4   9606.ENSP00000265709  binding    NaN              f           t    908   \n",
       "8   9606.ENSP00000265709  binding    NaN              f           f    908   \n",
       "10  9606.ENSP00000263025  binding    NaN              f           t    156   \n",
       "11  9606.ENSP00000263025  binding    NaN              f           f    156   \n",
       "21  9606.ENSP00000005340  binding    NaN              f           f    171   \n",
       "\n",
       "    node_a  node_b  \n",
       "4      137    4634  \n",
       "8      137    4634  \n",
       "10     137    1438  \n",
       "11     137    1438  \n",
       "21     137    4882  "
      ]
     },
     "execution_count": 10,
     "metadata": {},
     "output_type": "execute_result"
    }
   ],
   "source": [
    "shs148k.head()"
   ]
  },
  {
   "cell_type": "code",
   "execution_count": 11,
   "id": "ae7e0ca2",
   "metadata": {},
   "outputs": [],
   "source": [
    "import numpy as np"
   ]
  },
  {
   "cell_type": "code",
   "execution_count": 12,
   "id": "fc93fe28",
   "metadata": {},
   "outputs": [
    {
     "data": {
      "text/plain": [
       "array([[ 137, 1019],\n",
       "       [ 877, 2146],\n",
       "       [ 331, 4963],\n",
       "       ...,\n",
       "       [1635,  593],\n",
       "       [2119,  524],\n",
       "       [ 529,   91]])"
      ]
     },
     "execution_count": 12,
     "metadata": {},
     "output_type": "execute_result"
    }
   ],
   "source": [
    "edges = np.array(shs148k[['node_a', 'node_b']])\n",
    "np.random.shuffle(edges)\n",
    "edges"
   ]
  },
  {
   "cell_type": "code",
   "execution_count": 13,
   "id": "d5461e0a",
   "metadata": {},
   "outputs": [],
   "source": [
    "np.savetxt(\"./data/ppi/SHS148all_binding.txt\", edges, newline=\"\\n\", fmt=\"%d\")\n"
   ]
  },
  {
   "cell_type": "code",
   "execution_count": 70,
   "id": "bb5bf439",
   "metadata": {},
   "outputs": [
    {
     "data": {
      "text/html": [
       "<div>\n",
       "<style scoped>\n",
       "    .dataframe tbody tr th:only-of-type {\n",
       "        vertical-align: middle;\n",
       "    }\n",
       "\n",
       "    .dataframe tbody tr th {\n",
       "        vertical-align: top;\n",
       "    }\n",
       "\n",
       "    .dataframe thead th {\n",
       "        text-align: right;\n",
       "    }\n",
       "</style>\n",
       "<table border=\"1\" class=\"dataframe\">\n",
       "  <thead>\n",
       "    <tr style=\"text-align: right;\">\n",
       "      <th></th>\n",
       "      <th>id</th>\n",
       "      <th>seq</th>\n",
       "    </tr>\n",
       "  </thead>\n",
       "  <tbody>\n",
       "    <tr>\n",
       "      <th>0</th>\n",
       "      <td>9606.ENSP00000000233</td>\n",
       "      <td>MGLTVSALFSRIFGKKQMRILMVGLDAAGKTTILYKLKLGEIVTTI...</td>\n",
       "    </tr>\n",
       "    <tr>\n",
       "      <th>1</th>\n",
       "      <td>9606.ENSP00000000412</td>\n",
       "      <td>MFPFYSCWRTGLLLLLLAVAVRESWQTEEKTCDLVGEKGKESEKEL...</td>\n",
       "    </tr>\n",
       "    <tr>\n",
       "      <th>2</th>\n",
       "      <td>9606.ENSP00000000442</td>\n",
       "      <td>MSSQVVGIEPLYIKAEPASPDSPKGSSETETEPPVALAPGPAPTRC...</td>\n",
       "    </tr>\n",
       "    <tr>\n",
       "      <th>3</th>\n",
       "      <td>9606.ENSP00000001008</td>\n",
       "      <td>MTAEEMKATESGAQSAPLPMEGVDISPKQDEGVLKVIKREGTGTEM...</td>\n",
       "    </tr>\n",
       "    <tr>\n",
       "      <th>4</th>\n",
       "      <td>9606.ENSP00000001146</td>\n",
       "      <td>MLFEGLDLVSALATLAACLVSVTLLLAVSQQLWQLRWAATRDKSCK...</td>\n",
       "    </tr>\n",
       "  </tbody>\n",
       "</table>\n",
       "</div>"
      ],
      "text/plain": [
       "                     id                                                seq\n",
       "0  9606.ENSP00000000233  MGLTVSALFSRIFGKKQMRILMVGLDAAGKTTILYKLKLGEIVTTI...\n",
       "1  9606.ENSP00000000412  MFPFYSCWRTGLLLLLLAVAVRESWQTEEKTCDLVGEKGKESEKEL...\n",
       "2  9606.ENSP00000000442  MSSQVVGIEPLYIKAEPASPDSPKGSSETETEPPVALAPGPAPTRC...\n",
       "3  9606.ENSP00000001008  MTAEEMKATESGAQSAPLPMEGVDISPKQDEGVLKVIKREGTGTEM...\n",
       "4  9606.ENSP00000001146  MLFEGLDLVSALATLAACLVSVTLLLAVSQQLWQLRWAATRDKSCK..."
      ]
     },
     "execution_count": 70,
     "metadata": {},
     "output_type": "execute_result"
    }
   ],
   "source": [
    "allseqs_path = 'dataset_release/protein.sequences.dictionary.both.tsv'\n",
    "\n",
    "allseqs = pd.read_csv(allseqs_path, sep='\\t', on_bad_lines='skip', names=[\"id\", \"seq\"])\n",
    "allseqs.head()"
   ]
  },
  {
   "cell_type": "code",
   "execution_count": 15,
   "id": "1b1a2343",
   "metadata": {},
   "outputs": [],
   "source": [
    "allseqs['seq_len'] = allseqs['seq'].apply(lambda x: len(x))"
   ]
  },
  {
   "cell_type": "code",
   "execution_count": 16,
   "id": "bf01e12f",
   "metadata": {},
   "outputs": [
    {
     "data": {
      "text/plain": [
       "242.0"
      ]
     },
     "execution_count": 16,
     "metadata": {},
     "output_type": "execute_result"
    }
   ],
   "source": [
    "allseqs['seq_len'].quantile(0.25)"
   ]
  },
  {
   "cell_type": "code",
   "execution_count": 13,
   "id": "84c306ea",
   "metadata": {},
   "outputs": [
    {
     "data": {
      "text/html": [
       "<div>\n",
       "<style scoped>\n",
       "    .dataframe tbody tr th:only-of-type {\n",
       "        vertical-align: middle;\n",
       "    }\n",
       "\n",
       "    .dataframe tbody tr th {\n",
       "        vertical-align: top;\n",
       "    }\n",
       "\n",
       "    .dataframe thead th {\n",
       "        text-align: right;\n",
       "    }\n",
       "</style>\n",
       "<table border=\"1\" class=\"dataframe\">\n",
       "  <thead>\n",
       "    <tr style=\"text-align: right;\">\n",
       "      <th></th>\n",
       "      <th>id</th>\n",
       "      <th>seq</th>\n",
       "      <th>seq_len</th>\n",
       "    </tr>\n",
       "  </thead>\n",
       "  <tbody>\n",
       "    <tr>\n",
       "      <th>1</th>\n",
       "      <td>9606.ENSP00000000412</td>\n",
       "      <td>MFPFYSCWRTGLLLLLLAVAVRESWQTEEKTCDLVGEKGKESEKEL...</td>\n",
       "      <td>277</td>\n",
       "    </tr>\n",
       "    <tr>\n",
       "      <th>2</th>\n",
       "      <td>9606.ENSP00000000442</td>\n",
       "      <td>MSSQVVGIEPLYIKAEPASPDSPKGSSETETEPPVALAPGPAPTRC...</td>\n",
       "      <td>423</td>\n",
       "    </tr>\n",
       "    <tr>\n",
       "      <th>3</th>\n",
       "      <td>9606.ENSP00000001008</td>\n",
       "      <td>MTAEEMKATESGAQSAPLPMEGVDISPKQDEGVLKVIKREGTGTEM...</td>\n",
       "      <td>459</td>\n",
       "    </tr>\n",
       "    <tr>\n",
       "      <th>4</th>\n",
       "      <td>9606.ENSP00000001146</td>\n",
       "      <td>MLFEGLDLVSALATLAACLVSVTLLLAVSQQLWQLRWAATRDKSCK...</td>\n",
       "      <td>512</td>\n",
       "    </tr>\n",
       "    <tr>\n",
       "      <th>5</th>\n",
       "      <td>9606.ENSP00000002125</td>\n",
       "      <td>MSVLLRSGLGPLCAVARAAIPFIWRGKYFSSGNEPAENPVTPMLRH...</td>\n",
       "      <td>441</td>\n",
       "    </tr>\n",
       "    <tr>\n",
       "      <th>...</th>\n",
       "      <td>...</td>\n",
       "      <td>...</td>\n",
       "      <td>...</td>\n",
       "    </tr>\n",
       "    <tr>\n",
       "      <th>20438</th>\n",
       "      <td>9606.ENSP00000473092</td>\n",
       "      <td>TSCPRPLQEGTPGSRAAHALSRRGHRVHELPTSSPGGDTGFMSCPR...</td>\n",
       "      <td>308</td>\n",
       "    </tr>\n",
       "    <tr>\n",
       "      <th>20444</th>\n",
       "      <td>9606.ENSP00000473153</td>\n",
       "      <td>MTEKFLFLYLSLLPMPLLSQAQWNENSLVSFSKIIASGNHLSNCWI...</td>\n",
       "      <td>477</td>\n",
       "    </tr>\n",
       "    <tr>\n",
       "      <th>20449</th>\n",
       "      <td>9606.ENSP00000473172</td>\n",
       "      <td>MATVTATTKVPEIRDVTRIERIGAHSHIRGLGLDDALEPRQASQGM...</td>\n",
       "      <td>463</td>\n",
       "    </tr>\n",
       "    <tr>\n",
       "      <th>20451</th>\n",
       "      <td>9606.ENSP00000473193</td>\n",
       "      <td>MTSRGFQRSCNNPPCSSMTGRRANQIHHLTPDFSRELLPPKKAGTW...</td>\n",
       "      <td>336</td>\n",
       "    </tr>\n",
       "    <tr>\n",
       "      <th>20454</th>\n",
       "      <td>9606.ENSP00000473233</td>\n",
       "      <td>XGVAAYMKSEDPLFVLEHSLPIDTQYYLEQQLAKPLLRIFEPILGE...</td>\n",
       "      <td>397</td>\n",
       "    </tr>\n",
       "  </tbody>\n",
       "</table>\n",
       "<p>10983 rows × 3 columns</p>\n",
       "</div>"
      ],
      "text/plain": [
       "                         id  \\\n",
       "1      9606.ENSP00000000412   \n",
       "2      9606.ENSP00000000442   \n",
       "3      9606.ENSP00000001008   \n",
       "4      9606.ENSP00000001146   \n",
       "5      9606.ENSP00000002125   \n",
       "...                     ...   \n",
       "20438  9606.ENSP00000473092   \n",
       "20444  9606.ENSP00000473153   \n",
       "20449  9606.ENSP00000473172   \n",
       "20451  9606.ENSP00000473193   \n",
       "20454  9606.ENSP00000473233   \n",
       "\n",
       "                                                     seq  seq_len  \n",
       "1      MFPFYSCWRTGLLLLLLAVAVRESWQTEEKTCDLVGEKGKESEKEL...      277  \n",
       "2      MSSQVVGIEPLYIKAEPASPDSPKGSSETETEPPVALAPGPAPTRC...      423  \n",
       "3      MTAEEMKATESGAQSAPLPMEGVDISPKQDEGVLKVIKREGTGTEM...      459  \n",
       "4      MLFEGLDLVSALATLAACLVSVTLLLAVSQQLWQLRWAATRDKSCK...      512  \n",
       "5      MSVLLRSGLGPLCAVARAAIPFIWRGKYFSSGNEPAENPVTPMLRH...      441  \n",
       "...                                                  ...      ...  \n",
       "20438  TSCPRPLQEGTPGSRAAHALSRRGHRVHELPTSSPGGDTGFMSCPR...      308  \n",
       "20444  MTEKFLFLYLSLLPMPLLSQAQWNENSLVSFSKIIASGNHLSNCWI...      477  \n",
       "20449  MATVTATTKVPEIRDVTRIERIGAHSHIRGLGLDDALEPRQASQGM...      463  \n",
       "20451  MTSRGFQRSCNNPPCSSMTGRRANQIHHLTPDFSRELLPPKKAGTW...      336  \n",
       "20454  XGVAAYMKSEDPLFVLEHSLPIDTQYYLEQQLAKPLLRIFEPILGE...      397  \n",
       "\n",
       "[10983 rows x 3 columns]"
      ]
     },
     "execution_count": 13,
     "metadata": {},
     "output_type": "execute_result"
    }
   ],
   "source": [
    "allseqs[(allseqs['seq_len'] <= 750) & (allseqs['seq_len'] >= 250)]"
   ]
  },
  {
   "cell_type": "code",
   "execution_count": 17,
   "id": "a612d0bc",
   "metadata": {},
   "outputs": [],
   "source": [
    "id_seq_dict = pd.Series(allseqs.seq.values, index=allseqs.id).to_dict()"
   ]
  },
  {
   "cell_type": "code",
   "execution_count": 71,
   "id": "04609cd1",
   "metadata": {},
   "outputs": [],
   "source": [
    "amino = ['A',\n",
    " 'C',\n",
    " 'D',\n",
    " 'E',\n",
    " 'F',\n",
    " 'G',\n",
    " 'H',\n",
    " 'I',\n",
    " 'K',\n",
    " 'L',\n",
    " 'M',\n",
    " 'N',\n",
    " 'P',\n",
    " 'Q',\n",
    " 'R',\n",
    " 'S',\n",
    " 'T',\n",
    " 'U',\n",
    " 'V',\n",
    " 'W',\n",
    " 'X',\n",
    " 'Y']"
   ]
  },
  {
   "cell_type": "code",
   "execution_count": 72,
   "id": "a27dd420",
   "metadata": {},
   "outputs": [
    {
     "data": {
      "text/plain": [
       "array(['A', 'C', 'D', 'E', 'F', 'G', 'H', 'I', 'K', 'L', 'M', 'N', 'P',\n",
       "       'Q', 'R', 'S', 'T', 'U', 'V', 'W', 'X', 'Y'], dtype='<U1')"
      ]
     },
     "execution_count": 72,
     "metadata": {},
     "output_type": "execute_result"
    }
   ],
   "source": [
    "from sklearn.preprocessing import LabelEncoder\n",
    "le = LabelEncoder()\n",
    "le.fit(amino)\n",
    "le.classes_\n"
   ]
  },
  {
   "cell_type": "code",
   "execution_count": 73,
   "id": "73668750",
   "metadata": {},
   "outputs": [
    {
     "data": {
      "text/html": [
       "<div>\n",
       "<style scoped>\n",
       "    .dataframe tbody tr th:only-of-type {\n",
       "        vertical-align: middle;\n",
       "    }\n",
       "\n",
       "    .dataframe tbody tr th {\n",
       "        vertical-align: top;\n",
       "    }\n",
       "\n",
       "    .dataframe thead th {\n",
       "        text-align: right;\n",
       "    }\n",
       "</style>\n",
       "<table border=\"1\" class=\"dataframe\">\n",
       "  <thead>\n",
       "    <tr style=\"text-align: right;\">\n",
       "      <th></th>\n",
       "      <th>id</th>\n",
       "      <th>seq</th>\n",
       "      <th>seq_list</th>\n",
       "    </tr>\n",
       "  </thead>\n",
       "  <tbody>\n",
       "    <tr>\n",
       "      <th>0</th>\n",
       "      <td>9606.ENSP00000000233</td>\n",
       "      <td>MGLTVSALFSRIFGKKQMRILMVGLDAAGKTTILYKLKLGEIVTTI...</td>\n",
       "      <td>[11, 6, 10, 17, 19, 16, 1, 10, 5, 16, 15, 8, 5...</td>\n",
       "    </tr>\n",
       "    <tr>\n",
       "      <th>1</th>\n",
       "      <td>9606.ENSP00000000412</td>\n",
       "      <td>MFPFYSCWRTGLLLLLLAVAVRESWQTEEKTCDLVGEKGKESEKEL...</td>\n",
       "      <td>[11, 5, 13, 5, 22, 16, 2, 20, 15, 17, 6, 10, 1...</td>\n",
       "    </tr>\n",
       "    <tr>\n",
       "      <th>2</th>\n",
       "      <td>9606.ENSP00000000442</td>\n",
       "      <td>MSSQVVGIEPLYIKAEPASPDSPKGSSETETEPPVALAPGPAPTRC...</td>\n",
       "      <td>[11, 16, 16, 14, 19, 19, 6, 8, 4, 13, 10, 22, ...</td>\n",
       "    </tr>\n",
       "    <tr>\n",
       "      <th>3</th>\n",
       "      <td>9606.ENSP00000001008</td>\n",
       "      <td>MTAEEMKATESGAQSAPLPMEGVDISPKQDEGVLKVIKREGTGTEM...</td>\n",
       "      <td>[11, 17, 1, 4, 4, 11, 9, 1, 17, 4, 16, 6, 1, 1...</td>\n",
       "    </tr>\n",
       "    <tr>\n",
       "      <th>4</th>\n",
       "      <td>9606.ENSP00000001146</td>\n",
       "      <td>MLFEGLDLVSALATLAACLVSVTLLLAVSQQLWQLRWAATRDKSCK...</td>\n",
       "      <td>[11, 10, 5, 4, 6, 10, 3, 10, 19, 16, 1, 10, 1,...</td>\n",
       "    </tr>\n",
       "    <tr>\n",
       "      <th>...</th>\n",
       "      <td>...</td>\n",
       "      <td>...</td>\n",
       "      <td>...</td>\n",
       "    </tr>\n",
       "    <tr>\n",
       "      <th>20451</th>\n",
       "      <td>9606.ENSP00000473193</td>\n",
       "      <td>MTSRGFQRSCNNPPCSSMTGRRANQIHHLTPDFSRELLPPKKAGTW...</td>\n",
       "      <td>[11, 17, 16, 15, 6, 5, 14, 15, 16, 2, 12, 12, ...</td>\n",
       "    </tr>\n",
       "    <tr>\n",
       "      <th>20452</th>\n",
       "      <td>9606.ENSP00000473200</td>\n",
       "      <td>XNDLKAALDKIDQQYLNEIVGGQEPGEEDTQNDLKVHEENTTIEEL...</td>\n",
       "      <td>[21, 12, 3, 10, 9, 1, 1, 10, 3, 9, 8, 3, 14, 1...</td>\n",
       "    </tr>\n",
       "    <tr>\n",
       "      <th>20453</th>\n",
       "      <td>9606.ENSP00000473203</td>\n",
       "      <td>MQANDAGRFQAEFAEIRASKELSSGNMHCEYPYHQVCLCILFSEPK...</td>\n",
       "      <td>[11, 14, 1, 12, 3, 1, 6, 15, 5, 14, 1, 4, 5, 1...</td>\n",
       "    </tr>\n",
       "    <tr>\n",
       "      <th>20454</th>\n",
       "      <td>9606.ENSP00000473233</td>\n",
       "      <td>XGVAAYMKSEDPLFVLEHSLPIDTQYYLEQQLAKPLLRIFEPILGE...</td>\n",
       "      <td>[21, 6, 19, 1, 1, 22, 11, 9, 16, 4, 3, 13, 10,...</td>\n",
       "    </tr>\n",
       "    <tr>\n",
       "      <th>20455</th>\n",
       "      <td>9606.ENSP00000473243</td>\n",
       "      <td>MRNMIPQDNENPPQQGEANQNDSVAFEDVAVNFTPDEWALLDPSQK...</td>\n",
       "      <td>[11, 15, 12, 11, 8, 13, 14, 3, 12, 4, 12, 13, ...</td>\n",
       "    </tr>\n",
       "  </tbody>\n",
       "</table>\n",
       "<p>20456 rows × 3 columns</p>\n",
       "</div>"
      ],
      "text/plain": [
       "                         id  \\\n",
       "0      9606.ENSP00000000233   \n",
       "1      9606.ENSP00000000412   \n",
       "2      9606.ENSP00000000442   \n",
       "3      9606.ENSP00000001008   \n",
       "4      9606.ENSP00000001146   \n",
       "...                     ...   \n",
       "20451  9606.ENSP00000473193   \n",
       "20452  9606.ENSP00000473200   \n",
       "20453  9606.ENSP00000473203   \n",
       "20454  9606.ENSP00000473233   \n",
       "20455  9606.ENSP00000473243   \n",
       "\n",
       "                                                     seq  \\\n",
       "0      MGLTVSALFSRIFGKKQMRILMVGLDAAGKTTILYKLKLGEIVTTI...   \n",
       "1      MFPFYSCWRTGLLLLLLAVAVRESWQTEEKTCDLVGEKGKESEKEL...   \n",
       "2      MSSQVVGIEPLYIKAEPASPDSPKGSSETETEPPVALAPGPAPTRC...   \n",
       "3      MTAEEMKATESGAQSAPLPMEGVDISPKQDEGVLKVIKREGTGTEM...   \n",
       "4      MLFEGLDLVSALATLAACLVSVTLLLAVSQQLWQLRWAATRDKSCK...   \n",
       "...                                                  ...   \n",
       "20451  MTSRGFQRSCNNPPCSSMTGRRANQIHHLTPDFSRELLPPKKAGTW...   \n",
       "20452  XNDLKAALDKIDQQYLNEIVGGQEPGEEDTQNDLKVHEENTTIEEL...   \n",
       "20453  MQANDAGRFQAEFAEIRASKELSSGNMHCEYPYHQVCLCILFSEPK...   \n",
       "20454  XGVAAYMKSEDPLFVLEHSLPIDTQYYLEQQLAKPLLRIFEPILGE...   \n",
       "20455  MRNMIPQDNENPPQQGEANQNDSVAFEDVAVNFTPDEWALLDPSQK...   \n",
       "\n",
       "                                                seq_list  \n",
       "0      [11, 6, 10, 17, 19, 16, 1, 10, 5, 16, 15, 8, 5...  \n",
       "1      [11, 5, 13, 5, 22, 16, 2, 20, 15, 17, 6, 10, 1...  \n",
       "2      [11, 16, 16, 14, 19, 19, 6, 8, 4, 13, 10, 22, ...  \n",
       "3      [11, 17, 1, 4, 4, 11, 9, 1, 17, 4, 16, 6, 1, 1...  \n",
       "4      [11, 10, 5, 4, 6, 10, 3, 10, 19, 16, 1, 10, 1,...  \n",
       "...                                                  ...  \n",
       "20451  [11, 17, 16, 15, 6, 5, 14, 15, 16, 2, 12, 12, ...  \n",
       "20452  [21, 12, 3, 10, 9, 1, 1, 10, 3, 9, 8, 3, 14, 1...  \n",
       "20453  [11, 14, 1, 12, 3, 1, 6, 15, 5, 14, 1, 4, 5, 1...  \n",
       "20454  [21, 6, 19, 1, 1, 22, 11, 9, 16, 4, 3, 13, 10,...  \n",
       "20455  [11, 15, 12, 11, 8, 13, 14, 3, 12, 4, 12, 13, ...  \n",
       "\n",
       "[20456 rows x 3 columns]"
      ]
     },
     "execution_count": 73,
     "metadata": {},
     "output_type": "execute_result"
    }
   ],
   "source": [
    "allseqs['seq_list'] = allseqs['seq'].apply(lambda x: le.transform(list(x)) + 1)\n",
    "allseqs"
   ]
  },
  {
   "cell_type": "code",
   "execution_count": 20,
   "id": "89a59baa",
   "metadata": {},
   "outputs": [
    {
     "data": {
      "text/plain": [
       "33423"
      ]
     },
     "execution_count": 20,
     "metadata": {},
     "output_type": "execute_result"
    }
   ],
   "source": [
    "allseqs['seq_list'].apply(lambda x: len(x)).max()"
   ]
  },
  {
   "cell_type": "code",
   "execution_count": 19,
   "id": "1fb659a3",
   "metadata": {},
   "outputs": [
    {
     "data": {
      "text/html": [
       "<div>\n",
       "<style scoped>\n",
       "    .dataframe tbody tr th:only-of-type {\n",
       "        vertical-align: middle;\n",
       "    }\n",
       "\n",
       "    .dataframe tbody tr th {\n",
       "        vertical-align: top;\n",
       "    }\n",
       "\n",
       "    .dataframe thead th {\n",
       "        text-align: right;\n",
       "    }\n",
       "</style>\n",
       "<table border=\"1\" class=\"dataframe\">\n",
       "  <thead>\n",
       "    <tr style=\"text-align: right;\">\n",
       "      <th></th>\n",
       "      <th>id</th>\n",
       "      <th>seq</th>\n",
       "      <th>seq_len</th>\n",
       "      <th>seq_list</th>\n",
       "      <th>seq_data</th>\n",
       "    </tr>\n",
       "  </thead>\n",
       "  <tbody>\n",
       "    <tr>\n",
       "      <th>0</th>\n",
       "      <td>9606.ENSP00000000233</td>\n",
       "      <td>MGLTVSALFSRIFGKKQMRILMVGLDAAGKTTILYKLKLGEIVTTI...</td>\n",
       "      <td>180</td>\n",
       "      <td>[11, 6, 10, 17, 19, 16, 1, 10, 5, 16, 15, 8, 5...</td>\n",
       "      <td>[11, 6, 10, 17, 19, 16, 1, 10, 5, 16, 15, 8, 5...</td>\n",
       "    </tr>\n",
       "    <tr>\n",
       "      <th>1</th>\n",
       "      <td>9606.ENSP00000000412</td>\n",
       "      <td>MFPFYSCWRTGLLLLLLAVAVRESWQTEEKTCDLVGEKGKESEKEL...</td>\n",
       "      <td>277</td>\n",
       "      <td>[11, 5, 13, 5, 22, 16, 2, 20, 15, 17, 6, 10, 1...</td>\n",
       "      <td>[11, 5, 13, 5, 22, 16, 2, 20, 15, 17, 6, 10, 1...</td>\n",
       "    </tr>\n",
       "    <tr>\n",
       "      <th>2</th>\n",
       "      <td>9606.ENSP00000000442</td>\n",
       "      <td>MSSQVVGIEPLYIKAEPASPDSPKGSSETETEPPVALAPGPAPTRC...</td>\n",
       "      <td>423</td>\n",
       "      <td>[11, 16, 16, 14, 19, 19, 6, 8, 4, 13, 10, 22, ...</td>\n",
       "      <td>[11, 16, 16, 14, 19, 19, 6, 8, 4, 13, 10, 22, ...</td>\n",
       "    </tr>\n",
       "    <tr>\n",
       "      <th>3</th>\n",
       "      <td>9606.ENSP00000001008</td>\n",
       "      <td>MTAEEMKATESGAQSAPLPMEGVDISPKQDEGVLKVIKREGTGTEM...</td>\n",
       "      <td>459</td>\n",
       "      <td>[11, 17, 1, 4, 4, 11, 9, 1, 17, 4, 16, 6, 1, 1...</td>\n",
       "      <td>[11, 17, 1, 4, 4, 11, 9, 1, 17, 4, 16, 6, 1, 1...</td>\n",
       "    </tr>\n",
       "    <tr>\n",
       "      <th>4</th>\n",
       "      <td>9606.ENSP00000001146</td>\n",
       "      <td>MLFEGLDLVSALATLAACLVSVTLLLAVSQQLWQLRWAATRDKSCK...</td>\n",
       "      <td>512</td>\n",
       "      <td>[11, 10, 5, 4, 6, 10, 3, 10, 19, 16, 1, 10, 1,...</td>\n",
       "      <td>[11, 10, 5, 4, 6, 10, 3, 10, 19, 16, 1, 10, 1,...</td>\n",
       "    </tr>\n",
       "    <tr>\n",
       "      <th>...</th>\n",
       "      <td>...</td>\n",
       "      <td>...</td>\n",
       "      <td>...</td>\n",
       "      <td>...</td>\n",
       "      <td>...</td>\n",
       "    </tr>\n",
       "    <tr>\n",
       "      <th>20451</th>\n",
       "      <td>9606.ENSP00000473193</td>\n",
       "      <td>MTSRGFQRSCNNPPCSSMTGRRANQIHHLTPDFSRELLPPKKAGTW...</td>\n",
       "      <td>336</td>\n",
       "      <td>[11, 17, 16, 15, 6, 5, 14, 15, 16, 2, 12, 12, ...</td>\n",
       "      <td>[11, 17, 16, 15, 6, 5, 14, 15, 16, 2, 12, 12, ...</td>\n",
       "    </tr>\n",
       "    <tr>\n",
       "      <th>20452</th>\n",
       "      <td>9606.ENSP00000473200</td>\n",
       "      <td>XNDLKAALDKIDQQYLNEIVGGQEPGEEDTQNDLKVHEENTTIEEL...</td>\n",
       "      <td>203</td>\n",
       "      <td>[21, 12, 3, 10, 9, 1, 1, 10, 3, 9, 8, 3, 14, 1...</td>\n",
       "      <td>[21, 12, 3, 10, 9, 1, 1, 10, 3, 9, 8, 3, 14, 1...</td>\n",
       "    </tr>\n",
       "    <tr>\n",
       "      <th>20453</th>\n",
       "      <td>9606.ENSP00000473203</td>\n",
       "      <td>MQANDAGRFQAEFAEIRASKELSSGNMHCEYPYHQVCLCILFSEPK...</td>\n",
       "      <td>125</td>\n",
       "      <td>[11, 14, 1, 12, 3, 1, 6, 15, 5, 14, 1, 4, 5, 1...</td>\n",
       "      <td>[11, 14, 1, 12, 3, 1, 6, 15, 5, 14, 1, 4, 5, 1...</td>\n",
       "    </tr>\n",
       "    <tr>\n",
       "      <th>20454</th>\n",
       "      <td>9606.ENSP00000473233</td>\n",
       "      <td>XGVAAYMKSEDPLFVLEHSLPIDTQYYLEQQLAKPLLRIFEPILGE...</td>\n",
       "      <td>397</td>\n",
       "      <td>[21, 6, 19, 1, 1, 22, 11, 9, 16, 4, 3, 13, 10,...</td>\n",
       "      <td>[21, 6, 19, 1, 1, 22, 11, 9, 16, 4, 3, 13, 10,...</td>\n",
       "    </tr>\n",
       "    <tr>\n",
       "      <th>20455</th>\n",
       "      <td>9606.ENSP00000473243</td>\n",
       "      <td>MRNMIPQDNENPPQQGEANQNDSVAFEDVAVNFTPDEWALLDPSQK...</td>\n",
       "      <td>82</td>\n",
       "      <td>[11, 15, 12, 11, 8, 13, 14, 3, 12, 4, 12, 13, ...</td>\n",
       "      <td>[11, 15, 12, 11, 8, 13, 14, 3, 12, 4, 12, 13, ...</td>\n",
       "    </tr>\n",
       "  </tbody>\n",
       "</table>\n",
       "<p>20456 rows × 5 columns</p>\n",
       "</div>"
      ],
      "text/plain": [
       "                         id  \\\n",
       "0      9606.ENSP00000000233   \n",
       "1      9606.ENSP00000000412   \n",
       "2      9606.ENSP00000000442   \n",
       "3      9606.ENSP00000001008   \n",
       "4      9606.ENSP00000001146   \n",
       "...                     ...   \n",
       "20451  9606.ENSP00000473193   \n",
       "20452  9606.ENSP00000473200   \n",
       "20453  9606.ENSP00000473203   \n",
       "20454  9606.ENSP00000473233   \n",
       "20455  9606.ENSP00000473243   \n",
       "\n",
       "                                                     seq  seq_len  \\\n",
       "0      MGLTVSALFSRIFGKKQMRILMVGLDAAGKTTILYKLKLGEIVTTI...      180   \n",
       "1      MFPFYSCWRTGLLLLLLAVAVRESWQTEEKTCDLVGEKGKESEKEL...      277   \n",
       "2      MSSQVVGIEPLYIKAEPASPDSPKGSSETETEPPVALAPGPAPTRC...      423   \n",
       "3      MTAEEMKATESGAQSAPLPMEGVDISPKQDEGVLKVIKREGTGTEM...      459   \n",
       "4      MLFEGLDLVSALATLAACLVSVTLLLAVSQQLWQLRWAATRDKSCK...      512   \n",
       "...                                                  ...      ...   \n",
       "20451  MTSRGFQRSCNNPPCSSMTGRRANQIHHLTPDFSRELLPPKKAGTW...      336   \n",
       "20452  XNDLKAALDKIDQQYLNEIVGGQEPGEEDTQNDLKVHEENTTIEEL...      203   \n",
       "20453  MQANDAGRFQAEFAEIRASKELSSGNMHCEYPYHQVCLCILFSEPK...      125   \n",
       "20454  XGVAAYMKSEDPLFVLEHSLPIDTQYYLEQQLAKPLLRIFEPILGE...      397   \n",
       "20455  MRNMIPQDNENPPQQGEANQNDSVAFEDVAVNFTPDEWALLDPSQK...       82   \n",
       "\n",
       "                                                seq_list  \\\n",
       "0      [11, 6, 10, 17, 19, 16, 1, 10, 5, 16, 15, 8, 5...   \n",
       "1      [11, 5, 13, 5, 22, 16, 2, 20, 15, 17, 6, 10, 1...   \n",
       "2      [11, 16, 16, 14, 19, 19, 6, 8, 4, 13, 10, 22, ...   \n",
       "3      [11, 17, 1, 4, 4, 11, 9, 1, 17, 4, 16, 6, 1, 1...   \n",
       "4      [11, 10, 5, 4, 6, 10, 3, 10, 19, 16, 1, 10, 1,...   \n",
       "...                                                  ...   \n",
       "20451  [11, 17, 16, 15, 6, 5, 14, 15, 16, 2, 12, 12, ...   \n",
       "20452  [21, 12, 3, 10, 9, 1, 1, 10, 3, 9, 8, 3, 14, 1...   \n",
       "20453  [11, 14, 1, 12, 3, 1, 6, 15, 5, 14, 1, 4, 5, 1...   \n",
       "20454  [21, 6, 19, 1, 1, 22, 11, 9, 16, 4, 3, 13, 10,...   \n",
       "20455  [11, 15, 12, 11, 8, 13, 14, 3, 12, 4, 12, 13, ...   \n",
       "\n",
       "                                                seq_data  \n",
       "0      [11, 6, 10, 17, 19, 16, 1, 10, 5, 16, 15, 8, 5...  \n",
       "1      [11, 5, 13, 5, 22, 16, 2, 20, 15, 17, 6, 10, 1...  \n",
       "2      [11, 16, 16, 14, 19, 19, 6, 8, 4, 13, 10, 22, ...  \n",
       "3      [11, 17, 1, 4, 4, 11, 9, 1, 17, 4, 16, 6, 1, 1...  \n",
       "4      [11, 10, 5, 4, 6, 10, 3, 10, 19, 16, 1, 10, 1,...  \n",
       "...                                                  ...  \n",
       "20451  [11, 17, 16, 15, 6, 5, 14, 15, 16, 2, 12, 12, ...  \n",
       "20452  [21, 12, 3, 10, 9, 1, 1, 10, 3, 9, 8, 3, 14, 1...  \n",
       "20453  [11, 14, 1, 12, 3, 1, 6, 15, 5, 14, 1, 4, 5, 1...  \n",
       "20454  [21, 6, 19, 1, 1, 22, 11, 9, 16, 4, 3, 13, 10,...  \n",
       "20455  [11, 15, 12, 11, 8, 13, 14, 3, 12, 4, 12, 13, ...  \n",
       "\n",
       "[20456 rows x 5 columns]"
      ]
     },
     "execution_count": 19,
     "metadata": {},
     "output_type": "execute_result"
    }
   ],
   "source": [
    "allseqs['seq_data'] = allseqs['seq_list'].apply(lambda x: list(x)[:100] if len(x) > 100 else list(x) + [0] * (100 - len(x)))\n",
    "allseqs"
   ]
  },
  {
   "cell_type": "code",
   "execution_count": 21,
   "id": "416d8874",
   "metadata": {},
   "outputs": [
    {
     "data": {
      "text/html": [
       "<div>\n",
       "<style scoped>\n",
       "    .dataframe tbody tr th:only-of-type {\n",
       "        vertical-align: middle;\n",
       "    }\n",
       "\n",
       "    .dataframe tbody tr th {\n",
       "        vertical-align: top;\n",
       "    }\n",
       "\n",
       "    .dataframe thead th {\n",
       "        text-align: right;\n",
       "    }\n",
       "</style>\n",
       "<table border=\"1\" class=\"dataframe\">\n",
       "  <thead>\n",
       "    <tr style=\"text-align: right;\">\n",
       "      <th></th>\n",
       "      <th>id</th>\n",
       "      <th>seq</th>\n",
       "      <th>seq_len</th>\n",
       "      <th>seq_list</th>\n",
       "      <th>seq_data</th>\n",
       "    </tr>\n",
       "  </thead>\n",
       "  <tbody>\n",
       "    <tr>\n",
       "      <th>0</th>\n",
       "      <td>9606.ENSP00000000233</td>\n",
       "      <td>MGLTVSALFSRIFGKKQMRILMVGLDAAGKTTILYKLKLGEIVTTI...</td>\n",
       "      <td>180</td>\n",
       "      <td>[11, 6, 10, 17, 19, 16, 1, 10, 5, 16, 15, 8, 5...</td>\n",
       "      <td>[11, 6, 10, 17, 19, 16, 1, 10, 5, 16, 15, 8, 5...</td>\n",
       "    </tr>\n",
       "    <tr>\n",
       "      <th>1</th>\n",
       "      <td>9606.ENSP00000000412</td>\n",
       "      <td>MFPFYSCWRTGLLLLLLAVAVRESWQTEEKTCDLVGEKGKESEKEL...</td>\n",
       "      <td>277</td>\n",
       "      <td>[11, 5, 13, 5, 22, 16, 2, 20, 15, 17, 6, 10, 1...</td>\n",
       "      <td>[11, 5, 13, 5, 22, 16, 2, 20, 15, 17, 6, 10, 1...</td>\n",
       "    </tr>\n",
       "    <tr>\n",
       "      <th>2</th>\n",
       "      <td>9606.ENSP00000000442</td>\n",
       "      <td>MSSQVVGIEPLYIKAEPASPDSPKGSSETETEPPVALAPGPAPTRC...</td>\n",
       "      <td>423</td>\n",
       "      <td>[11, 16, 16, 14, 19, 19, 6, 8, 4, 13, 10, 22, ...</td>\n",
       "      <td>[11, 16, 16, 14, 19, 19, 6, 8, 4, 13, 10, 22, ...</td>\n",
       "    </tr>\n",
       "    <tr>\n",
       "      <th>3</th>\n",
       "      <td>9606.ENSP00000001008</td>\n",
       "      <td>MTAEEMKATESGAQSAPLPMEGVDISPKQDEGVLKVIKREGTGTEM...</td>\n",
       "      <td>459</td>\n",
       "      <td>[11, 17, 1, 4, 4, 11, 9, 1, 17, 4, 16, 6, 1, 1...</td>\n",
       "      <td>[11, 17, 1, 4, 4, 11, 9, 1, 17, 4, 16, 6, 1, 1...</td>\n",
       "    </tr>\n",
       "    <tr>\n",
       "      <th>4</th>\n",
       "      <td>9606.ENSP00000001146</td>\n",
       "      <td>MLFEGLDLVSALATLAACLVSVTLLLAVSQQLWQLRWAATRDKSCK...</td>\n",
       "      <td>512</td>\n",
       "      <td>[11, 10, 5, 4, 6, 10, 3, 10, 19, 16, 1, 10, 1,...</td>\n",
       "      <td>[11, 10, 5, 4, 6, 10, 3, 10, 19, 16, 1, 10, 1,...</td>\n",
       "    </tr>\n",
       "    <tr>\n",
       "      <th>...</th>\n",
       "      <td>...</td>\n",
       "      <td>...</td>\n",
       "      <td>...</td>\n",
       "      <td>...</td>\n",
       "      <td>...</td>\n",
       "    </tr>\n",
       "    <tr>\n",
       "      <th>5184</th>\n",
       "      <td>9606.ENSP00000319104</td>\n",
       "      <td>MSDFVESEAEESEEEYNDEGEVVPRVTKKFVEEEDDDEEEEEENLD...</td>\n",
       "      <td>1726</td>\n",
       "      <td>[11, 16, 3, 5, 19, 4, 16, 4, 1, 4, 4, 16, 4, 4...</td>\n",
       "      <td>[11, 16, 3, 5, 19, 4, 16, 4, 1, 4, 4, 16, 4, 4...</td>\n",
       "    </tr>\n",
       "    <tr>\n",
       "      <th>5185</th>\n",
       "      <td>9606.ENSP00000319118</td>\n",
       "      <td>MSRSFYVDSLIIKDTSRPAPSLPEPHPGPDFFIPLGMPPPLVMSVS...</td>\n",
       "      <td>304</td>\n",
       "      <td>[11, 16, 15, 16, 5, 22, 19, 3, 16, 10, 8, 8, 9...</td>\n",
       "      <td>[11, 16, 15, 16, 5, 22, 19, 3, 16, 10, 8, 8, 9...</td>\n",
       "    </tr>\n",
       "    <tr>\n",
       "      <th>5186</th>\n",
       "      <td>9606.ENSP00000319166</td>\n",
       "      <td>MKLGKVEFCHFLQLIALFLCFSGMSQAELSRSRSKPYFQSGRSRTK...</td>\n",
       "      <td>785</td>\n",
       "      <td>[11, 9, 10, 6, 9, 19, 4, 5, 2, 7, 5, 10, 14, 1...</td>\n",
       "      <td>[11, 9, 10, 6, 9, 19, 4, 5, 2, 7, 5, 10, 14, 1...</td>\n",
       "    </tr>\n",
       "    <tr>\n",
       "      <th>5187</th>\n",
       "      <td>9606.ENSP00000319169</td>\n",
       "      <td>MAAMAVGGAGGSRVSSGRDLNCVPEIADTLGAVAKQGFDFLCMPVF...</td>\n",
       "      <td>637</td>\n",
       "      <td>[11, 1, 1, 11, 1, 19, 6, 6, 1, 6, 6, 16, 15, 1...</td>\n",
       "      <td>[11, 1, 1, 11, 1, 19, 6, 6, 1, 6, 6, 16, 15, 1...</td>\n",
       "    </tr>\n",
       "    <tr>\n",
       "      <th>5188</th>\n",
       "      <td>9606.ENSP00000319192</td>\n",
       "      <td>MIPLEKPGSGGSSPGATSGSGRAGRGLSGPCRPPPPPQARGLLTEI...</td>\n",
       "      <td>414</td>\n",
       "      <td>[11, 8, 13, 10, 4, 9, 13, 6, 16, 6, 6, 16, 16,...</td>\n",
       "      <td>[11, 8, 13, 10, 4, 9, 13, 6, 16, 6, 6, 16, 16,...</td>\n",
       "    </tr>\n",
       "  </tbody>\n",
       "</table>\n",
       "<p>5189 rows × 5 columns</p>\n",
       "</div>"
      ],
      "text/plain": [
       "                        id                                                seq  \\\n",
       "0     9606.ENSP00000000233  MGLTVSALFSRIFGKKQMRILMVGLDAAGKTTILYKLKLGEIVTTI...   \n",
       "1     9606.ENSP00000000412  MFPFYSCWRTGLLLLLLAVAVRESWQTEEKTCDLVGEKGKESEKEL...   \n",
       "2     9606.ENSP00000000442  MSSQVVGIEPLYIKAEPASPDSPKGSSETETEPPVALAPGPAPTRC...   \n",
       "3     9606.ENSP00000001008  MTAEEMKATESGAQSAPLPMEGVDISPKQDEGVLKVIKREGTGTEM...   \n",
       "4     9606.ENSP00000001146  MLFEGLDLVSALATLAACLVSVTLLLAVSQQLWQLRWAATRDKSCK...   \n",
       "...                    ...                                                ...   \n",
       "5184  9606.ENSP00000319104  MSDFVESEAEESEEEYNDEGEVVPRVTKKFVEEEDDDEEEEEENLD...   \n",
       "5185  9606.ENSP00000319118  MSRSFYVDSLIIKDTSRPAPSLPEPHPGPDFFIPLGMPPPLVMSVS...   \n",
       "5186  9606.ENSP00000319166  MKLGKVEFCHFLQLIALFLCFSGMSQAELSRSRSKPYFQSGRSRTK...   \n",
       "5187  9606.ENSP00000319169  MAAMAVGGAGGSRVSSGRDLNCVPEIADTLGAVAKQGFDFLCMPVF...   \n",
       "5188  9606.ENSP00000319192  MIPLEKPGSGGSSPGATSGSGRAGRGLSGPCRPPPPPQARGLLTEI...   \n",
       "\n",
       "      seq_len                                           seq_list  \\\n",
       "0         180  [11, 6, 10, 17, 19, 16, 1, 10, 5, 16, 15, 8, 5...   \n",
       "1         277  [11, 5, 13, 5, 22, 16, 2, 20, 15, 17, 6, 10, 1...   \n",
       "2         423  [11, 16, 16, 14, 19, 19, 6, 8, 4, 13, 10, 22, ...   \n",
       "3         459  [11, 17, 1, 4, 4, 11, 9, 1, 17, 4, 16, 6, 1, 1...   \n",
       "4         512  [11, 10, 5, 4, 6, 10, 3, 10, 19, 16, 1, 10, 1,...   \n",
       "...       ...                                                ...   \n",
       "5184     1726  [11, 16, 3, 5, 19, 4, 16, 4, 1, 4, 4, 16, 4, 4...   \n",
       "5185      304  [11, 16, 15, 16, 5, 22, 19, 3, 16, 10, 8, 8, 9...   \n",
       "5186      785  [11, 9, 10, 6, 9, 19, 4, 5, 2, 7, 5, 10, 14, 1...   \n",
       "5187      637  [11, 1, 1, 11, 1, 19, 6, 6, 1, 6, 6, 16, 15, 1...   \n",
       "5188      414  [11, 8, 13, 10, 4, 9, 13, 6, 16, 6, 6, 16, 16,...   \n",
       "\n",
       "                                               seq_data  \n",
       "0     [11, 6, 10, 17, 19, 16, 1, 10, 5, 16, 15, 8, 5...  \n",
       "1     [11, 5, 13, 5, 22, 16, 2, 20, 15, 17, 6, 10, 1...  \n",
       "2     [11, 16, 16, 14, 19, 19, 6, 8, 4, 13, 10, 22, ...  \n",
       "3     [11, 17, 1, 4, 4, 11, 9, 1, 17, 4, 16, 6, 1, 1...  \n",
       "4     [11, 10, 5, 4, 6, 10, 3, 10, 19, 16, 1, 10, 1,...  \n",
       "...                                                 ...  \n",
       "5184  [11, 16, 3, 5, 19, 4, 16, 4, 1, 4, 4, 16, 4, 4...  \n",
       "5185  [11, 16, 15, 16, 5, 22, 19, 3, 16, 10, 8, 8, 9...  \n",
       "5186  [11, 9, 10, 6, 9, 19, 4, 5, 2, 7, 5, 10, 14, 1...  \n",
       "5187  [11, 1, 1, 11, 1, 19, 6, 6, 1, 6, 6, 16, 15, 1...  \n",
       "5188  [11, 8, 13, 10, 4, 9, 13, 6, 16, 6, 6, 16, 16,...  \n",
       "\n",
       "[5189 rows x 5 columns]"
      ]
     },
     "execution_count": 21,
     "metadata": {},
     "output_type": "execute_result"
    }
   ],
   "source": [
    "shs148_seqs = allseqs[allseqs.id.isin(proteins_index.keys())].reset_index(drop=True)\n",
    "shs148_seqs"
   ]
  },
  {
   "cell_type": "code",
   "execution_count": 26,
   "id": "27090bd7",
   "metadata": {},
   "outputs": [],
   "source": [
    "shs148_seqs['index'] = shs148_seqs['id'].apply(lambda x: proteins_index[x])\n",
    "shs148_seqs = shs148_seqs.sort_values(by=['index'])"
   ]
  },
  {
   "cell_type": "code",
   "execution_count": 27,
   "id": "c144a5a4",
   "metadata": {},
   "outputs": [],
   "source": [
    "shs148_data = np.array(list(shs148_seqs['seq_data']))"
   ]
  },
  {
   "cell_type": "code",
   "execution_count": 28,
   "id": "e2ed1404",
   "metadata": {},
   "outputs": [],
   "source": [
    "np.save(\"./data/ppi/features_SHS148all.npy\", shs148_data.astype(\"float\"))"
   ]
  },
  {
   "cell_type": "code",
   "execution_count": 30,
   "id": "cb68f697",
   "metadata": {},
   "outputs": [
    {
     "data": {
      "text/plain": [
       "(5189, 100)"
      ]
     },
     "execution_count": 30,
     "metadata": {},
     "output_type": "execute_result"
    }
   ],
   "source": [
    "shs148_data.shape"
   ]
  },
  {
   "cell_type": "code",
   "execution_count": 3,
   "id": "6f6d41aa",
   "metadata": {},
   "outputs": [],
   "source": [
    "features_SHS148all = np.load(\"./data/ppi/features_SHS148all.npy\")"
   ]
  },
  {
   "cell_type": "code",
   "execution_count": 4,
   "id": "cc59b6af",
   "metadata": {},
   "outputs": [
    {
     "data": {
      "text/plain": [
       "array([[11, 10,  6, ..., 22, 16, 16],\n",
       "       [11, 16, 17, ...,  2,  6,  9],\n",
       "       [11, 16,  9, ...,  4,  9,  6],\n",
       "       ...,\n",
       "       [11, 15,  6, ..., 10, 13,  6],\n",
       "       [11,  9,  9, ...,  6,  6, 16],\n",
       "       [11,  9,  6, ..., 16, 15,  4]])"
      ]
     },
     "execution_count": 4,
     "metadata": {},
     "output_type": "execute_result"
    }
   ],
   "source": [
    "features_SHS148all"
   ]
  },
  {
   "cell_type": "code",
   "execution_count": 143,
   "id": "6582101b",
   "metadata": {},
   "outputs": [],
   "source": [
    "import numpy as np"
   ]
  },
  {
   "cell_type": "code",
   "execution_count": 144,
   "id": "f27e1be5",
   "metadata": {},
   "outputs": [],
   "source": [
    "with open(\"./data/ppi/seqs_test.txt\") as f:\n",
    "    zdna = f.read().split('\\n')"
   ]
  },
  {
   "cell_type": "code",
   "execution_count": 145,
   "id": "e61843ad",
   "metadata": {},
   "outputs": [],
   "source": [
    "feature_func = lambda x: list(x)[:100] if len(x) > 100 else list(x) + [0] * (100 - len(x))\n",
    "res = []\n",
    "for elem in zdna:\n",
    "    res.append(feature_func(le.transform(list(elem))))"
   ]
  },
  {
   "cell_type": "code",
   "execution_count": 146,
   "id": "4d578f4f",
   "metadata": {},
   "outputs": [
    {
     "data": {
      "text/plain": [
       "array([[10,  0,  3,  0, 15, 18,  2,  9,  5, 16,  5,  2, 11,  9,  3, 13,\n",
       "         8,  7,  9, 13, 18,  9, 15,  2,  0,  5, 15, 12, 18, 13,  7,  2,\n",
       "        13,  9,  9,  8,  8,  9, 13, 18, 12,  8,  8,  7,  9, 11, 13, 18,\n",
       "         9, 21, 14,  9,  8,  8,  3,  5, 14, 18, 15, 15, 12,  0, 12,  0,\n",
       "        16, 19, 15,  9,  5,  5,  2,  5,  0, 15,  5,  2,  5,  0, 12,  3,\n",
       "         7, 12,  3,  2, 15,  0,  0, 13, 12, 15,  9,  3,  3, 14,  7,  9,\n",
       "        14,  4,  9,  3],\n",
       "       [10, 15, 15, 18,  8,  9, 19,  9, 11,  5,  0, 15, 15,  7, 15,  9,\n",
       "        18,  5, 15,  3,  3,  9,  3, 11,  9,  5,  4, 18,  5,  8,  5,  5,\n",
       "         4,  5,  0, 18,  4, 14,  0, 14,  6, 16,  0, 19, 11,  9,  2, 18,\n",
       "         0, 18,  8,  7, 18, 11, 15,  8,  8,  7, 15, 14,  3, 18,  8,  0,\n",
       "        10, 18, 11,  9, 14,  6,  3, 11, 18,  9,  9,  9,  9,  5, 18, 16,\n",
       "         3, 11,  9,  3, 19,  2, 21, 18, 21,  5, 12,  0,  9, 18, 16,  5,\n",
       "         4, 10,  3, 11],\n",
       "       [10,  0,  5,  9, 21, 15,  9,  5, 18, 15, 18,  4, 15,  2, 13,  5,\n",
       "         5, 14,  8, 21, 10,  3,  2, 18, 16, 13,  7, 18, 18,  3, 12,  3,\n",
       "        12, 16,  0,  3,  3,  8, 12, 15, 12, 14, 14, 15,  9, 15, 13, 12,\n",
       "         9, 12, 12, 14, 12, 15, 12,  0,  0,  9, 12,  5,  5,  3, 18, 15,\n",
       "         5,  8,  5, 12,  0, 18,  0,  0, 14,  3,  0, 14,  2, 12,  9, 12,\n",
       "         2,  0,  5,  0, 15, 12,  0, 12, 15, 14,  1,  1, 14, 14, 14, 15,\n",
       "        15, 18,  0,  4]])"
      ]
     },
     "execution_count": 146,
     "metadata": {},
     "output_type": "execute_result"
    }
   ],
   "source": [
    "np.array(res)"
   ]
  },
  {
   "cell_type": "code",
   "execution_count": 147,
   "id": "7c44fb8a",
   "metadata": {},
   "outputs": [],
   "source": [
    "test_features = np.array(res)[[0, 2]].astype(\"float\")"
   ]
  },
  {
   "cell_type": "code",
   "execution_count": 148,
   "id": "3241b789",
   "metadata": {},
   "outputs": [],
   "source": [
    "np.save(\"./data/ppi_test/features_test.npy\", test_features)"
   ]
  },
  {
   "cell_type": "code",
   "execution_count": 149,
   "id": "c23cc0f8",
   "metadata": {},
   "outputs": [
    {
     "data": {
      "text/plain": [
       "array([[10.,  0.,  3.,  0., 15., 18.,  2.,  9.,  5., 16.,  5.,  2., 11.,\n",
       "         9.,  3., 13.,  8.,  7.,  9., 13., 18.,  9., 15.,  2.,  0.,  5.,\n",
       "        15., 12., 18., 13.,  7.,  2., 13.,  9.,  9.,  8.,  8.,  9., 13.,\n",
       "        18., 12.,  8.,  8.,  7.,  9., 11., 13., 18.,  9., 21., 14.,  9.,\n",
       "         8.,  8.,  3.,  5., 14., 18., 15., 15., 12.,  0., 12.,  0., 16.,\n",
       "        19., 15.,  9.,  5.,  5.,  2.,  5.,  0., 15.,  5.,  2.,  5.,  0.,\n",
       "        12.,  3.,  7., 12.,  3.,  2., 15.,  0.,  0., 13., 12., 15.,  9.,\n",
       "         3.,  3., 14.,  7.,  9., 14.,  4.,  9.,  3.],\n",
       "       [10.,  0.,  5.,  9., 21., 15.,  9.,  5., 18., 15., 18.,  4., 15.,\n",
       "         2., 13.,  5.,  5., 14.,  8., 21., 10.,  3.,  2., 18., 16., 13.,\n",
       "         7., 18., 18.,  3., 12.,  3., 12., 16.,  0.,  3.,  3.,  8., 12.,\n",
       "        15., 12., 14., 14., 15.,  9., 15., 13., 12.,  9., 12., 12., 14.,\n",
       "        12., 15., 12.,  0.,  0.,  9., 12.,  5.,  5.,  3., 18., 15.,  5.,\n",
       "         8.,  5., 12.,  0., 18.,  0.,  0., 14.,  3.,  0., 14.,  2., 12.,\n",
       "         9., 12.,  2.,  0.,  5.,  0., 15., 12.,  0., 12., 15., 14.,  1.,\n",
       "         1., 14., 14., 14., 15., 15., 18.,  0.,  4.]])"
      ]
     },
     "execution_count": 149,
     "metadata": {},
     "output_type": "execute_result"
    }
   ],
   "source": [
    "test = np.load(\"./data/ppi_test/features_test.npy\")\n",
    "test"
   ]
  },
  {
   "cell_type": "code",
   "execution_count": 48,
   "id": "448215f7",
   "metadata": {},
   "outputs": [],
   "source": [
    "from torch.nn.modules.module import Module\n",
    "from torch import Tensor\n",
    "import torch\n",
    "\n",
    "class FermiDiracDecoder(Module):\n",
    "    def __init__(self, r, t):\n",
    "        super(FermiDiracDecoder, self).__init__()\n",
    "        self.r = r\n",
    "        self.t = t\n",
    "\n",
    "    def forward(self, dist):\n",
    "        probs = 1. / (torch.exp((dist - self.r) / self.t) + 1.0)\n",
    "        return probs"
   ]
  },
  {
   "cell_type": "code",
   "execution_count": 49,
   "id": "eb986f5d",
   "metadata": {},
   "outputs": [],
   "source": [
    "def sqdist(p1, p2, c):\n",
    "    return (p1 - p2).pow(2).sum(dim=-1)\n",
    "    \n",
    "dc = FermiDiracDecoder(r=2.0, t=1.0)\n",
    "\n",
    "def decode(emb_in, emb_out):\n",
    "    dist = sqdist(Tensor(emb_in), Tensor(emb_out), 1.0)\n",
    "    probs = dc.forward(dist)\n",
    "    return probs"
   ]
  },
  {
   "cell_type": "code",
   "execution_count": 112,
   "id": "45cb1bf7",
   "metadata": {},
   "outputs": [
    {
     "data": {
      "text/plain": [
       "array([[0.        , 0.        , 0.        , ..., 0.        , 0.        ,\n",
       "        0.        ],\n",
       "       [0.        , 0.        , 0.        , ..., 0.        , 0.        ,\n",
       "        0.        ],\n",
       "       [0.        , 0.        , 0.        , ..., 0.        , 0.        ,\n",
       "        0.        ],\n",
       "       ...,\n",
       "       [0.        , 0.        , 0.        , ..., 0.        , 0.        ,\n",
       "        0.05495378],\n",
       "       [0.        , 0.        , 0.        , ..., 0.        , 0.        ,\n",
       "        0.        ],\n",
       "       [0.        , 0.        , 0.        , ..., 0.        , 0.        ,\n",
       "        0.        ]], dtype=float32)"
      ]
     },
     "execution_count": 112,
     "metadata": {},
     "output_type": "execute_result"
    }
   ],
   "source": [
    "embs = np.load(\"/home/aleph0naught/GNN-PPI-diploma/logs/lp/2023_5_15/1/embeddings.npy\")\n",
    "embs"
   ]
  },
  {
   "cell_type": "code",
   "execution_count": 132,
   "id": "a23aa02f",
   "metadata": {},
   "outputs": [],
   "source": [
    "np.random.shuffle(embs)"
   ]
  },
  {
   "cell_type": "code",
   "execution_count": 133,
   "id": "3bb17127",
   "metadata": {},
   "outputs": [],
   "source": [
    "select = embs[:100]"
   ]
  },
  {
   "cell_type": "code",
   "execution_count": 134,
   "id": "42b68ea5",
   "metadata": {},
   "outputs": [],
   "source": [
    "res = []\n",
    "for i, emb_in in enumerate(select):\n",
    "    for j, emb_out in enumerate(select):\n",
    "        if i != j:\n",
    "            prob = decode(emb_in, emb_out)\n",
    "            res.append(float(prob))\n"
   ]
  },
  {
   "cell_type": "code",
   "execution_count": 141,
   "id": "ba1c474a",
   "metadata": {},
   "outputs": [
    {
     "data": {
      "text/plain": [
       "[0.5,\n",
       " 0.52,\n",
       " 0.54,\n",
       " 0.56,\n",
       " 0.5800000000000001,\n",
       " 0.6000000000000001,\n",
       " 0.6200000000000001,\n",
       " 0.6400000000000001,\n",
       " 0.6600000000000001,\n",
       " 0.6800000000000002,\n",
       " 0.7000000000000002,\n",
       " 0.7200000000000002,\n",
       " 0.7400000000000002,\n",
       " 0.7600000000000002,\n",
       " 0.7800000000000002,\n",
       " 0.8000000000000003,\n",
       " 0.8200000000000003,\n",
       " 0.8400000000000003,\n",
       " 0.8600000000000003,\n",
       " 0.8800000000000003,\n",
       " 0.9000000000000004,\n",
       " 0.9200000000000004,\n",
       " 0.9400000000000004,\n",
       " 0.9600000000000004,\n",
       " 0.9800000000000004]"
      ]
     },
     "execution_count": 141,
     "metadata": {},
     "output_type": "execute_result"
    }
   ],
   "source": [
    "bins = []\n",
    "for i in np.arange(0.5, 1., 0.02):\n",
    "    bins.append(i) \n",
    "bins"
   ]
  },
  {
   "cell_type": "code",
   "execution_count": 142,
   "id": "24fe2503",
   "metadata": {},
   "outputs": [
    {
     "data": {
      "text/plain": [
       "<AxesSubplot:>"
      ]
     },
     "execution_count": 142,
     "metadata": {},
     "output_type": "execute_result"
    },
    {
     "data": {
      "image/png": "[encoded data removed]",
      "text/plain": [
       "<Figure size 640x480 with 1 Axes>"
      ]
     },
     "metadata": {},
     "output_type": "display_data"
    }
   ],
   "source": [
    "pd.Series(res).hist(bins=bins)"
   ]
  },
  {
   "cell_type": "code",
   "execution_count": null,
   "id": "6f057c7f",
   "metadata": {},
   "outputs": [],
   "source": []
  }
 ],
 "metadata": {
  "kernelspec": {
   "display_name": "Python 3 (ipykernel)",
   "language": "python",
   "name": "python3"
  },
  "language_info": {
   "codemirror_mode": {
    "name": "ipython",
    "version": 3
   },
   "file_extension": ".py",
   "mimetype": "text/x-python",
   "name": "python",
   "nbconvert_exporter": "python",
   "pygments_lexer": "ipython3",
   "version": "3.10.4"
  }
 },
 "nbformat": 4,
 "nbformat_minor": 5
}
